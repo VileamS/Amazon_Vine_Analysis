{
  "metadata": {
    "language_info": {
      "codemirror_mode": {
        "name": "python",
        "version": 3
      },
      "file_extension": ".py",
      "mimetype": "text/x-python",
      "name": "python",
      "nbconvert_exporter": "python",
      "pygments_lexer": "ipython3",
      "version": "3.8"
    },
    "kernelspec": {
      "name": "python",
      "display_name": "Pyolite",
      "language": "python"
    }
  },
  "nbformat_minor": 4,
  "nbformat": 4,
  "cells": [
    {
      "cell_type": "code",
      "source": "import os\n# Find the latest version of spark 2.0  from http://www-us.apache.org/dist/spark/ and enter as the spark version\n# For example:\n# spark_version = 'spark-3.0.0'\nspark_version = 'spark-3.0.1'\nos.environ['SPARK_VERSION']=spark_version",
      "metadata": {},
      "execution_count": null,
      "outputs": []
    }
  ]
}