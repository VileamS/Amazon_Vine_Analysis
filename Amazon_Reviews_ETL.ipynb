{
  "metadata": {
    "language_info": {
      "codemirror_mode": {
        "name": "python",
        "version": 3
      },
      "file_extension": ".py",
      "mimetype": "text/x-python",
      "name": "python",
      "nbconvert_exporter": "python",
      "pygments_lexer": "ipython3",
      "version": "3.8"
    },
    "kernelspec": {
      "name": "python",
      "display_name": "Pyolite",
      "language": "python"
    }
  },
  "nbformat_minor": 4,
  "nbformat": 4,
  "cells": [
    {
      "cell_type": "code",
      "source": "import os\n# Find the latest version of spark 2.0  from http://www-us.apache.org/dist/spark/ and enter as the spark version\n# For example:\n# spark_version = 'spark-3.0.0'\nspark_version = 'spark-3.0.1'\nos.environ['SPARK_VERSION']=spark_version\n\n# Install Spark and Java\n!apt-get update\n!apt-get install openjdk-11-jdk-headless -qq > /dev/null\n!wget -q http://www-us.apache.org/dist/spark/$SPARK_VERSION/$SPARK_VERSION-bin-hadoop2.7.tgz\n!tar xf $SPARK_VERSION-bin-hadoop2.7.tgz\n!pip install -q findspark\n\n# Set Environment Variables\nimport os\nos.environ[\"JAVA_HOME\"] = \"/usr/lib/jvm/java-11-openjdk-amd64\"\nos.environ[\"SPARK_HOME\"] = f\"/content/{spark_version}-bin-hadoop2.7\"\n\n# Start a SparkSession\nimport findspark\nfindspark.init()",
      "metadata": {},
      "execution_count": null,
      "outputs": []
    },
    {
      "cell_type": "code",
      "source": "# Download the Postgres driver that will allow Spark to interact with Postgres.\n!wget https://jdbc.postgresql.org/download/postgresql-42.2.16.jar",
      "metadata": {},
      "execution_count": null,
      "outputs": []
    },
    {
      "cell_type": "code",
      "source": "# Start Spark session\nfrom pyspark.sql import SparkSession\nspark = SparkSession.builder.appName(\"BigData-Challenge\").config(\"spark.driver.extraClassPath\",\"/content/postgresql-42.2.16.jar\").getOrCreate()",
      "metadata": {},
      "execution_count": null,
      "outputs": []
    },
    {
      "cell_type": "code",
      "source": "from pyspark import SparkFiles\nurl = \"https://s3.amazonaws.com/amazon-reviews-pds/tsv/amazon_reviews_us_Video_Games_v1_00.tsv.gz\"\nspark.sparkContext.addFile(url)\ndf = spark.read.option(\"encoding\", \"UTF-8\").csv(SparkFiles.get(\"amazon_reviews_us_Video_Games_v1_00.tsv.gz\"), sep=\"\\t\", header=True, inferSchema=True)\ndf.show()",
      "metadata": {},
      "execution_count": null,
      "outputs": []
    },
    {
      "cell_type": "code",
      "source": "from pyspark.sql.functions import to_date\n# Read in the Review dataset as a DataFrame",
      "metadata": {},
      "execution_count": null,
      "outputs": []
    },
    {
      "cell_type": "code",
      "source": "# Create the customers_table DataFrame\ncustomers_df = df.groupby(\"customer_id\").agg({\"customer_id\":\"count\"}).withColumnRenamed(\"count(customer_id)\", \"customer_count\")\ncustomers_df.show()",
      "metadata": {},
      "execution_count": null,
      "outputs": []
    },
    {
      "cell_type": "code",
      "source": "# Create the products_table DataFrame and drop duplicates. \nproducts_df = df.select([\"product_id\",\"product_title\"]).drop_duplicates()\nproducts_df.show()",
      "metadata": {},
      "execution_count": null,
      "outputs": []
    },
    {
      "cell_type": "code",
      "source": "# Create the review_id_table DataFrame. \n# Convert the 'review_date' column to a date datatype with to_date(\"review_date\", 'yyyy-MM-dd').alias(\"review_date\")\nreview_id_df = df.select([\"review_id\",\"customer_id\",\"product_id\",\"product_parent\",to_date(\"review_date\", 'yyyy-MM-dd').alias(\"review_date\")])\n#eview_id_df = df.select([\"review_id\",\"customer_id\",\"product_id\",\"product_parent\",\"review_date\"])\nreview_id_df.show()",
      "metadata": {},
      "execution_count": null,
      "outputs": []
    },
    {
      "cell_type": "code",
      "source": "# Create the vine_table. DataFrame\nvine_df = df.select([\"review_id\",\"star_rating\",\"helpful_votes\",\"total_votes\",\"vine\",\"verified_purchase\"])\nvine_df.show()",
      "metadata": {},
      "execution_count": null,
      "outputs": []
    },
    {
      "cell_type": "code",
      "source": "# Ask for the password\nfrom getpass import getpass\nsecret = getpass('Enter the secret value: ')\n\n# Configure settings for RDS\nmode = \"append\"\njdbc_url=\"jdbc:postgresql://dataviz.cq7ukfvtuatk.us-east-2.rds.amazonaws.com:5432/postgres\"\nconfig = {\"user\":\"postgres\", \n          \"password\": secret, \n          \"driver\":\"org.postgresql.Driver\"}",
      "metadata": {},
      "execution_count": null,
      "outputs": []
    },
    {
      "cell_type": "code",
      "source": "# Write review_id_df to table in RDS\nreview_id_df.write.jdbc(url=jdbc_url, table='review_id_table', mode=mode, properties=config)",
      "metadata": {},
      "execution_count": null,
      "outputs": []
    },
    {
      "cell_type": "code",
      "source": "# Write products_df to table in RDS\n# about 3 min\nproducts_df.write.jdbc(url=jdbc_url, table='products_table', mode=mode, properties=config)",
      "metadata": {},
      "execution_count": null,
      "outputs": []
    },
    {
      "cell_type": "code",
      "source": "# Write customers_df to table in RDS\n# 5 min 14 s\ncustomers_df.write.jdbc(url=jdbc_url, table='customers_table', mode=mode, properties=config)",
      "metadata": {},
      "execution_count": null,
      "outputs": []
    },
    {
      "cell_type": "code",
      "source": "# Write vine_df to table in RDS\n# 11 minutes\nvine_df.write.jdbc(url=jdbc_url, table='vine_table', mode=mode, properties=config)",
      "metadata": {},
      "execution_count": null,
      "outputs": []
    },
    {
      "cell_type": "code",
      "source": "# https://www.amazon.com/gp/vine/help",
      "metadata": {},
      "execution_count": null,
      "outputs": []
    }
  ]
}